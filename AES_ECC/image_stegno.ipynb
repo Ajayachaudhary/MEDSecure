{
 "cells": [
  {
   "cell_type": "code",
   "execution_count": 64,
   "metadata": {},
   "outputs": [
    {
     "name": "stdout",
     "output_type": "stream",
     "text": [
      "Requirement already satisfied: numpy in ./myenv/lib/python3.12/site-packages (2.2.2)\n",
      "Note: you may need to restart the kernel to use updated packages.\n"
     ]
    }
   ],
   "source": [
    "pip install numpy\n"
   ]
  },
  {
   "cell_type": "code",
   "execution_count": 65,
   "metadata": {},
   "outputs": [],
   "source": [
    "import numpy as np\n",
    "\n",
    "def grayscale_image( height, width):\n",
    "  np.random.seed(0)\n",
    "  return np.random.randint(0, 255, (height, width), dtype=np.uint8)"
   ]
  },
  {
   "cell_type": "code",
   "execution_count": 66,
   "metadata": {},
   "outputs": [],
   "source": [
    "def embed_to_image(image_matrix, key):\n",
    "  binary_key = key + '1111111111111110' # delimiter to mark end\n",
    "  print(\"Binary_key:\", binary_key)\n",
    "  data_index = 0\n",
    "  stego_image = image_matrix.copy()\n",
    "\n",
    "  height, width = image_matrix.shape\n",
    "\n",
    "  for i in range(height):\n",
    "    for j in range(width):\n",
    "      if data_index < len(binary_key):\n",
    "        stego_image[i,j] = (stego_image[i,j] & 0xFE) | int(binary_key[data_index])\n",
    "        data_index +=1\n",
    "      else:\n",
    "        return stego_image"
   ]
  },
  {
   "cell_type": "code",
   "execution_count": 67,
   "metadata": {},
   "outputs": [],
   "source": [
    "def extract_key(image_matrix):\n",
    "    binary_key = ''\n",
    "    height, width = image_matrix.shape\n",
    "\n",
    "    for i in range(height):\n",
    "        for j in range(width):\n",
    "            binary_key += str(image_matrix[i,j] & 1)\n",
    "\n",
    "    delimiter = '1111111111111110'\n",
    "    binary_key = binary_key[:binary_key.find(delimiter)]\n",
    "    print(\"binary_key:\",binary_key)\n",
    "    return binary_key"
   ]
  },
  {
   "cell_type": "code",
   "execution_count": 68,
   "metadata": {},
   "outputs": [],
   "source": [
    "def restore_image(stegno_image):\n",
    "    restore_imaage = stegno_image.copy()\n",
    "    height, width = stegno_image.shape\n",
    "\n",
    "    for i in range(height):\n",
    "        for j in range(width):\n",
    "            restore_imaage [i,j] = restore_imaage[i,j] & 0xFE\n",
    "    return restore_imaage"
   ]
  },
  {
   "cell_type": "code",
   "execution_count": 69,
   "metadata": {},
   "outputs": [],
   "source": [
    "original_matrix = grayscale_image(5,5)\n",
    "key = '01000001'"
   ]
  },
  {
   "cell_type": "code",
   "execution_count": 70,
   "metadata": {},
   "outputs": [
    {
     "name": "stdout",
     "output_type": "stream",
     "text": [
      "image [[172  10 127 140  47]\n",
      " [170 196 151 117 166]\n",
      " [ 22 183 192 204  33]\n",
      " [216  67 179  78 154]\n",
      " [251  82 162 219 195]]\n"
     ]
    }
   ],
   "source": [
    "print(\"image\", original_matrix)"
   ]
  },
  {
   "cell_type": "code",
   "execution_count": 71,
   "metadata": {},
   "outputs": [
    {
     "name": "stdout",
     "output_type": "stream",
     "text": [
      "Binary_key: 010000011111111111111110\n"
     ]
    }
   ],
   "source": [
    "stegno_image = embed_to_image(original_matrix,key)"
   ]
  },
  {
   "cell_type": "code",
   "execution_count": 72,
   "metadata": {},
   "outputs": [
    {
     "name": "stdout",
     "output_type": "stream",
     "text": [
      "Stegno_image\n",
      "[[172  11 126 140  46]\n",
      " [170 196 151 117 167]\n",
      " [ 23 183 193 205  33]\n",
      " [217  67 179  79 155]\n",
      " [251  83 163 218 195]]\n"
     ]
    }
   ],
   "source": [
    "print(\"Stegno_image\")\n",
    "print(stegno_image)"
   ]
  },
  {
   "cell_type": "code",
   "execution_count": 73,
   "metadata": {},
   "outputs": [
    {
     "name": "stdout",
     "output_type": "stream",
     "text": [
      "binary_key: 01000001\n"
     ]
    }
   ],
   "source": [
    "extract_key = extract_key(stegno_image)"
   ]
  },
  {
   "cell_type": "code",
   "execution_count": 74,
   "metadata": {},
   "outputs": [
    {
     "name": "stdout",
     "output_type": "stream",
     "text": [
      "key: 01000001\n"
     ]
    }
   ],
   "source": [
    "print(\"key:\", extract_key)"
   ]
  },
  {
   "cell_type": "code",
   "execution_count": 75,
   "metadata": {},
   "outputs": [],
   "source": [
    "restored_image = restore_image(stegno_image)"
   ]
  },
  {
   "cell_type": "code",
   "execution_count": 76,
   "metadata": {},
   "outputs": [
    {
     "name": "stdout",
     "output_type": "stream",
     "text": [
      "Restored image:\n",
      "[[172  10 126 140  46]\n",
      " [170 196 150 116 166]\n",
      " [ 22 182 192 204  32]\n",
      " [216  66 178  78 154]\n",
      " [250  82 162 218 194]]\n"
     ]
    }
   ],
   "source": [
    "print(\"Restored image:\")\n",
    "print(restored_image)"
   ]
  },
  {
   "cell_type": "code",
   "execution_count": 77,
   "metadata": {},
   "outputs": [
    {
     "name": "stdout",
     "output_type": "stream",
     "text": [
      "Original Matrix:\n",
      "[[172  10 127 140  47]\n",
      " [170 196 151 117 166]\n",
      " [ 22 183 192 204  33]\n",
      " [216  67 179  78 154]\n",
      " [251  82 162 219 195]]\n",
      "\n",
      "\n",
      "\n",
      "Stegno Matrix:\n",
      "[[172  11 126 140  46]\n",
      " [170 196 151 117 167]\n",
      " [ 23 183 193 205  33]\n",
      " [217  67 179  79 155]\n",
      " [251  83 163 218 195]]\n",
      "\n",
      "\n",
      "\n",
      "Restored Matrix:\n",
      "[[172  10 126 140  46]\n",
      " [170 196 150 116 166]\n",
      " [ 22 182 192 204  32]\n",
      " [216  66 178  78 154]\n",
      " [250  82 162 218 194]]\n"
     ]
    }
   ],
   "source": [
    "print(\"Original Matrix:\")\n",
    "print(original_matrix)\n",
    "print(\"\\n\\n\")\n",
    "print(\"Stegno Matrix:\")\n",
    "print(stegno_image)\n",
    "print(\"\\n\\n\")\n",
    "print(\"Restored Matrix:\")\n",
    "print(restored_image)\n",
    "\n",
    "\n"
   ]
  },
  {
   "cell_type": "code",
   "execution_count": null,
   "metadata": {},
   "outputs": [],
   "source": []
  }
 ],
 "metadata": {
  "kernelspec": {
   "display_name": "myenv",
   "language": "python",
   "name": "python3"
  },
  "language_info": {
   "codemirror_mode": {
    "name": "ipython",
    "version": 3
   },
   "file_extension": ".py",
   "mimetype": "text/x-python",
   "name": "python",
   "nbconvert_exporter": "python",
   "pygments_lexer": "ipython3",
   "version": "3.12.3"
  }
 },
 "nbformat": 4,
 "nbformat_minor": 2
}
